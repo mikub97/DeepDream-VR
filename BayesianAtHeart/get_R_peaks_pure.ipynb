{
 "cells": [
  {
   "cell_type": "code",
   "execution_count": 2,
   "id": "f03430f5-bacd-4740-a430-ecbb53176fe0",
   "metadata": {},
   "outputs": [],
   "source": [
    "import pandas as pd\n",
    "import numpy as np\n",
    "import bioread\n",
    "from data.hr_estimations.generate_hr import *"
   ]
  },
  {
   "cell_type": "markdown",
   "id": "2112cfe6",
   "metadata": {},
   "source": [
    "# Getting R peaks from ACQ FILES\n",
    "\n",
    "Converting ACQ files to CSV"
   ]
  },
  {
   "cell_type": "code",
   "execution_count": 3,
   "id": "04505ae3",
   "metadata": {},
   "outputs": [],
   "source": [
    "filenames = ['1_ECG_Misia_main','2_ECG_Michal_main']\n"
   ]
  },
  {
   "cell_type": "code",
   "execution_count": 5,
   "id": "e8f07da3",
   "metadata": {},
   "outputs": [],
   "source": [
    "for name in filenames:\n",
    "    acq_data = bioread.read_file(f'data/ECG/{name}.acq')\n",
    "    df = pd.DataFrame({channel.name: channel.data for channel in acq_data.channels})\n",
    "    df.to_csv(f'data/ECG/{name}.csv', index=False)\n"
   ]
  },
  {
   "cell_type": "code",
   "execution_count": 6,
   "id": "c28ab1c3",
   "metadata": {},
   "outputs": [],
   "source": [
    "for filename in filenames:\n",
    "    df = pd.read_csv(f'data/ECG/{filename}.csv',delimiter=\",\")\n",
    "\n",
    "    # Picking the right column\n",
    "    r_peaks=df['ECG R-R']\n",
    "    # Find the first non-zero element\n",
    "    first_non_zero_index = r_peaks[r_peaks != 0].first_valid_index()\n",
    "    # Slice the Series from the first non-zero element\n",
    "    r_peaks = r_peaks[first_non_zero_index:]\n",
    "\n",
    "\n",
    "    # As R_peaks seams to repeat themselves many times, I assume that they correspond to \n",
    "    # the same R peak. I will remove the consecutive repetitions and stick only to true\n",
    "    # r_peaks - \n",
    "    \n",
    "    indices= df['ECG R-R'] != df['ECG R-R'].shift(1)\n",
    "    indices = indices[indices == True].index[1:]\n",
    "\n",
    "    segments = []   \n",
    "    # Loop through the indices to create segments\n",
    "    for i in range(len(indices) - 1):\n",
    "        start_idx = indices[i]\n",
    "        end_idx = indices[i + 1]-1\n",
    "        segment = r_peaks.loc[start_idx:end_idx]\n",
    "        segments.append(segment)\n",
    "\n",
    "    # saving only first value of a segment, where segment is a sequence of repeated values\n",
    "\n",
    "    pd.Series(np.array([x.values[0] for x in segments]).cumsum()).to_csv(f\"data/R_peaks/{filename}_r_peaks.csv\", index=False,header=False)\n",
    "\n",
    "\n"
   ]
  },
  {
   "cell_type": "code",
   "execution_count": 83,
   "id": "58055b26",
   "metadata": {},
   "outputs": [],
   "source": [
    "def remove_consecutive_duplicates(series):\n",
    "    result = [series[0]]  # Start with the first element\n",
    "\n",
    "    for element in series[1:]:\n",
    "        if element != result[-1]:  # Add to result if different from the last element\n",
    "            result.append(element)\n",
    "    \n",
    "    return result\n"
   ]
  }
 ],
 "metadata": {
  "kernelspec": {
   "display_name": "Python 3 (ipykernel)",
   "language": "python",
   "name": "python3"
  },
  "language_info": {
   "codemirror_mode": {
    "name": "ipython",
    "version": 3
   },
   "file_extension": ".py",
   "mimetype": "text/x-python",
   "name": "python",
   "nbconvert_exporter": "python",
   "pygments_lexer": "ipython3",
   "version": "3.11.9"
  }
 },
 "nbformat": 4,
 "nbformat_minor": 5
}
